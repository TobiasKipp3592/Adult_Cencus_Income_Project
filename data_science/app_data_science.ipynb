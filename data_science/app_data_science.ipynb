{
 "cells": [
  {
   "cell_type": "markdown",
   "metadata": {},
   "source": [
    "# Skript, welches durch die App generiert wurde\n",
    "\n",
    "- notwendige Module installieren\n",
    "- Pfad für die Datei anpassen"
   ]
  },
  {
   "cell_type": "code",
   "execution_count": 2,
   "metadata": {},
   "outputs": [
    {
     "name": "stdout",
     "output_type": "stream",
     "text": [
      "Accuracy: 0.8529095654844158\n",
      "Precision: 0.7228637413394919\n",
      "Recall: 0.6109303838646715\n",
      "F1 Score: 0.6622002820874471\n",
      "Equalized Odds Difference: 0.08548320443945923\n",
      "Demographic Parity Difference: 0.18345449277091488\n",
      "Demographic Parity Ratio: 0.29465468387902205\n"
     ]
    },
    {
     "data": {
      "image/png": "[encoded data removed]",
      "text/plain": [
       "<Figure size 1200x600 with 1 Axes>"
      ]
     },
     "metadata": {},
     "output_type": "display_data"
    }
   ],
   "source": [
    "# Import necessary libraries\n",
    "import pandas as pd\n",
    "import numpy as np\n",
    "from sklearn.model_selection import train_test_split\n",
    "from sklearn.ensemble import RandomForestClassifier\n",
    "from sklearn.metrics import accuracy_score, precision_score, recall_score, f1_score\n",
    "from sklearn.preprocessing import LabelEncoder\n",
    "import matplotlib.pyplot as plt\n",
    "from fairlearn.metrics import equalized_odds_difference, demographic_parity_difference, demographic_parity_ratio\n",
    "\n",
    "# Load the dataset\n",
    "df = pd.read_csv(r\"C:\\Users\\kimko\\PortfolioProjekt\\adult.csv\") \n",
    "\n",
    "\n",
    "# Preprocessing\n",
    "# Handle missing values\n",
    "df = df.replace('Unknown', np.nan)\n",
    "df = df.dropna()\n",
    "\n",
    "# Encode categorical variables\n",
    "le = LabelEncoder()\n",
    "categorical_features = df.select_dtypes(include=[object]).columns\n",
    "for feature in categorical_features:\n",
    "    df[feature] = le.fit_transform(df[feature])\n",
    "\n",
    "# Define the target variable and the feature matrix\n",
    "X = df.drop('income', axis=1)\n",
    "y = df['income']\n",
    "\n",
    "# Split the data into training and testing sets\n",
    "X_train, X_test, y_train, y_test = train_test_split(X, y, test_size=0.2, random_state=42)\n",
    "\n",
    "# Implement and train the Random Forest model\n",
    "rf = RandomForestClassifier()\n",
    "rf.fit(X_train, y_train)\n",
    "\n",
    "# Make predictions\n",
    "y_pred = rf.predict(X_test)\n",
    "\n",
    "# Evaluate the model\n",
    "accuracy = accuracy_score(y_test, y_pred)\n",
    "precision = precision_score(y_test, y_pred)\n",
    "recall = recall_score(y_test, y_pred)\n",
    "f1 = f1_score(y_test, y_pred)\n",
    "\n",
    "print(f'Accuracy: {accuracy}')\n",
    "print(f'Precision: {precision}')\n",
    "print(f'Recall: {recall}')\n",
    "print(f'F1 Score: {f1}')\n",
    "\n",
    "# Fairness analysis\n",
    "EOD = equalized_odds_difference(y_test, y_pred, sensitive_features=X_test['sex'])\n",
    "DPD = demographic_parity_difference(y_test, y_pred, sensitive_features=X_test['sex'])\n",
    "DPO = demographic_parity_ratio(y_test, y_pred, sensitive_features=X_test['sex'])\n",
    "\n",
    "print(f'Equalized Odds Difference: {EOD}')\n",
    "print(f'Demographic Parity Difference: {DPD}')\n",
    "print(f'Demographic Parity Ratio: {DPO}')\n",
    "\n",
    "# Visualize results\n",
    "plt.figure(figsize=(12,6))\n",
    "plt.bar(['Accuracy', 'Precision', 'Recall', 'F1 Score'], [accuracy, precision, recall, f1])\n",
    "plt.title('Model Evaluation Metrics')\n",
    "plt.show()"
   ]
  },
  {
   "cell_type": "code",
   "execution_count": null,
   "metadata": {},
   "outputs": [],
   "source": []
  }
 ],
 "metadata": {
  "kernelspec": {
   "display_name": ".venv",
   "language": "python",
   "name": "python3"
  },
  "language_info": {
   "codemirror_mode": {
    "name": "ipython",
    "version": 3
   },
   "file_extension": ".py",
   "mimetype": "text/x-python",
   "name": "python",
   "nbconvert_exporter": "python",
   "pygments_lexer": "ipython3",
   "version": "3.12.9"
  }
 },
 "nbformat": 4,
 "nbformat_minor": 2
}
