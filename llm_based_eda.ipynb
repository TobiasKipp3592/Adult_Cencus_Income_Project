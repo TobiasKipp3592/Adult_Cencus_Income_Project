{
 "cells": [
  {
   "cell_type": "markdown",
   "metadata": {},
   "source": [
    "This notebooks contains an llm-supported EDA with the Dataset \"Adult Census Income\""
   ]
  },
  {
   "cell_type": "code",
   "execution_count": null,
   "metadata": {},
   "outputs": [],
   "source": [
    "# Module import\n",
    "import pandas as pd\n",
    "from data_cleaning import fill_missing_values, rename_columns\n",
    "import os\n",
    "from dotenv import load_dotenv\n",
    "from openai import OpenAI\n",
    "from langchain_openai import ChatOpenAI\n",
    "from langchain_experimental.agents import create_pandas_dataframe_agent"
   ]
  },
  {
   "cell_type": "code",
   "execution_count": null,
   "metadata": {},
   "outputs": [],
   "source": [
    "# Loading and cleaning data\n",
    "df = pd.read_csv(r\"C:\\Users\\tobia\\PortfolioProject\\.data\\adult.csv\", na_values=[\"?\"])  \n",
    "df = fill_missing_values(df)  \n",
    "df = rename_columns(df)"
   ]
  },
  {
   "cell_type": "code",
   "execution_count": null,
   "metadata": {},
   "outputs": [],
   "source": [
    "load_dotenv()\n",
    "client = OpenAI(api_key=os.getenv(\"OPENAI_API_KEY\"))"
   ]
  },
  {
   "cell_type": "code",
   "execution_count": null,
   "metadata": {},
   "outputs": [],
   "source": [
    "# load_dotenv()\n",
    "# api_key = os.getenv(\"OPENAI_API_KEY\")\n",
    "\n",
    "# if api_key is None:\n",
    "#     print(\"❌ Fehler: API-Key nicht gefunden. Überprüfe deine .env-Datei!\")\n",
    "# else:\n",
    "#     print(\"✅ API-Key erfolgreich geladen!\")"
   ]
  },
  {
   "cell_type": "code",
   "execution_count": null,
   "metadata": {},
   "outputs": [],
   "source": [
    "chat = ChatOpenAI(model_name=\"gpt-4\", temperature=0.0)\n",
    "agent = create_pandas_dataframe_agent(chat, df, agent_type=\"tool-calling\", allow_dangerous_code=True)"
   ]
  },
  {
   "cell_type": "code",
   "execution_count": null,
   "metadata": {},
   "outputs": [],
   "source": [
    "response = agent.invoke(\"What is the average age of the people in the dataset?\")\n",
    "print(response)"
   ]
  },
  {
   "cell_type": "markdown",
   "metadata": {},
   "source": [
    "Analysiere detailliert, wie sich das Einkommen (≤50K / >50K) in der Bevölkerung des Adult Income Dataset verteilt. Erstelle dazu ein passendes Histogramm oder Balkendiagramm. Führe eine kurze Interpretation der Ergebnisse durch, indem du mögliche Trends oder Auffälligkeiten erklärst."
   ]
  },
  {
   "cell_type": "code",
   "execution_count": null,
   "metadata": {},
   "outputs": [],
   "source": [
    "response = agent.invoke(\"Analysiere detailliert, wie sich das Einkommen (≤50K / >50K) in der Bevölkerung des Adult Income Dataset verteilt. Erstelle dazu ein passendes Histogramm oder Balkendiagramm. Führe eine kurze Interpretation der Ergebnisse durch, indem du mögliche Trends oder Auffälligkeiten erklärst.\")\n",
    "print(response)"
   ]
  },
  {
   "cell_type": "markdown",
   "metadata": {},
   "source": [
    "Untersuche mit Hilfe einer Korrelationstabelle und einer Visualisierung, welche Bildungsstufen am stärksten mit einem Einkommen von über 50K im Adult Income Dataset zusammenhängen. Erkläre, wie du zu diesem Ergebnis gekommen bist, und interpretiere mögliche Ursachen für diese Korrelation."
   ]
  },
  {
   "cell_type": "markdown",
   "metadata": {},
   "source": [
    "Führe eine Analyse durch, um festzustellen, ob bestimmte Bildungsabschlüsse bei Männern oder Frauen im Adult Income Dataset überdurchschnittlich häufig vorkommen. Erstelle dazu eine Kreuztabelle und ein passendes Diagramm. Leite aus den Ergebnissen Handlungsempfehlungen oder Hypothesen ab."
   ]
  },
  {
   "cell_type": "markdown",
   "metadata": {},
   "source": [
    "Untersuche, welche Berufsgruppen im Adult Income Dataset den höchsten bzw. geringsten Anteil an Personen mit einem Einkommen von über 50K haben. Erstelle dazu ein Diagramm und erläutere die wichtigsten Erkenntnisse. Gehe dabei auf mögliche Gründe für die Einkommensunterschiede ein."
   ]
  },
  {
   "cell_type": "markdown",
   "metadata": {},
   "source": [
    "Analysiere, wie sich die Wahrscheinlichkeit eines Einkommens von über 50K mit steigendem Alter verändert. Erstelle dazu eine lineare oder nicht-lineare Regressionsanalyse und eine passende Visualisierung. Erkläre, ob es signifikante Altersgruppen gibt, die besonders häufig ein hohes Einkommen erzielen."
   ]
  },
  {
   "cell_type": "markdown",
   "metadata": {},
   "source": [
    "Führe eine detaillierte Analyse durch, um herauszufinden, ob es signifikante Einkommensunterschiede zwischen Männern und Frauen im Adult Income Dataset gibt. Verwende dazu statistische Tests wie den T-Test oder den Chi-Quadrat-Test und erstelle ein geeignetes Diagramm zur Veranschaulichung."
   ]
  },
  {
   "cell_type": "markdown",
   "metadata": {},
   "source": [
    "Untersuche die Korrelation zwischen der Anzahl der gearbeiteten Stunden pro Woche und dem Einkommen im Adult Income Dataset. Erstelle eine Scatterplot-Visualisierung und führe eine Regressionsanalyse durch, um die Stärke und Richtung des Zusammenhangs zu ermitteln."
   ]
  },
  {
   "cell_type": "markdown",
   "metadata": {},
   "source": [
    "Analysiere, ob es signifikante Unterschiede in der durchschnittlichen Arbeitszeit pro Woche zwischen Männern und Frauen gibt. Führe dazu eine deskriptive Statistik durch, erstelle eine Visualisierung und interpretiere die Ergebnisse im Hinblick auf mögliche Gründe für die Unterschiede."
   ]
  },
  {
   "cell_type": "markdown",
   "metadata": {},
   "source": [
    "Führe eine Analyse durch, um den Zusammenhang zwischen dem Herkunftsland und der Einkommensklasse (≤50K / >50K) im Adult Income Dataset zu untersuchen. Erstelle eine Heatmap oder ein Balkendiagramm und interpretiere, ob bestimmte Länder tendenziell häufiger in bestimmten Einkommensklassen vertreten sind."
   ]
  },
  {
   "cell_type": "markdown",
   "metadata": {},
   "source": [
    "Untersuche, wie sich das Einkommen (≤50K / >50K) über verschiedene ethnische Gruppen hinweg im Adult Income Dataset verteilt. Verwende dazu eine Kreuztabelle und eine passende Visualisierung. Erkläre, ob es signifikante Unterschiede gibt, und spekuliere über mögliche Ursachen."
   ]
  },
  {
   "cell_type": "markdown",
   "metadata": {},
   "source": [
    "Analysiere, wie der Familienstand (ledig, verheiratet, geschieden) das Einkommen im Adult Income Dataset beeinflusst. Führe dazu eine statistische Analyse und eine Visualisierung durch. Erläutere die möglichen Zusammenhänge und ziehe Rückschlüsse auf soziale oder wirtschaftliche Faktoren."
   ]
  },
  {
   "cell_type": "markdown",
   "metadata": {},
   "source": [
    "Identifiziere die demographischen Merkmale, die die stärksten Prädiktoren für ein hohes Einkommen (über 50K) im Adult Income Dataset sind. Verwende dazu ein Entscheidungsbaum-Modell oder eine logistische Regression und erläutere, welche Merkmale besonders relevant sind."
   ]
  },
  {
   "cell_type": "markdown",
   "metadata": {},
   "source": [
    "Analysiere, ob es Berufe im Adult Income Dataset gibt, in denen der Einkommensunterschied zwischen Männern und Frauen besonders hoch ist. Führe dazu eine detaillierte statistische Analyse durch und erstelle eine Visualisierung, die die Unterschiede darstellt. Gib mögliche Gründe für die Unterschiede an."
   ]
  }
 ],
 "metadata": {
  "kernelspec": {
   "display_name": ".venv",
   "language": "python",
   "name": "python3"
  },
  "language_info": {
   "codemirror_mode": {
    "name": "ipython",
    "version": 3
   },
   "file_extension": ".py",
   "mimetype": "text/x-python",
   "name": "python",
   "nbconvert_exporter": "python",
   "pygments_lexer": "ipython3",
   "version": "3.12.3"
  }
 },
 "nbformat": 4,
 "nbformat_minor": 2
}
