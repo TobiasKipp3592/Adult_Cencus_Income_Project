{
 "cells": [
  {
   "cell_type": "code",
   "execution_count": null,
   "metadata": {},
   "outputs": [],
   "source": [
    "import pandas as pd\n",
    "from data_cleaning import fill_missing_values, rename_columns"
   ]
  },
  {
   "cell_type": "code",
   "execution_count": null,
   "metadata": {},
   "outputs": [],
   "source": [
    "df = pd.read_csv(r\"C:\\Users\\tobia\\PortfolioProject\\.data\\adult.csv\", na_values=[\"?\"])  \n",
    "df = fill_missing_values(df)  \n",
    "df = rename_columns(df)  \n",
    "df.head()"
   ]
  },
  {
   "cell_type": "markdown",
   "metadata": {},
   "source": [
    "Analysiere detailliert, wie sich das Einkommen (≤50K / >50K) in der Bevölkerung des Adult Income Dataset verteilt. Erstelle dazu ein passendes Histogramm oder Balkendiagramm. Führe eine kurze Interpretation der Ergebnisse durch, indem du mögliche Trends oder Auffälligkeiten erklärst."
   ]
  },
  {
   "cell_type": "code",
   "execution_count": null,
   "metadata": {},
   "outputs": [],
   "source": [
    "income_spread = pd.crosstab(index=df[\"income\"], columns=\"count\", normalize=True)\n",
    "display(income_spread)"
   ]
  },
  {
   "cell_type": "markdown",
   "metadata": {},
   "source": [
    "Untersuche mit Hilfe einer Korrelationstabelle und einer Visualisierung, welche Bildungsstufen am stärksten mit einem Einkommen von über 50K im Adult Income Dataset zusammenhängen. Erkläre, wie du zu diesem Ergebnis gekommen bist, und interpretiere mögliche Ursachen für diese Korrelation."
   ]
  },
  {
   "cell_type": "code",
   "execution_count": null,
   "metadata": {},
   "outputs": [],
   "source": [
    "education_and_income = pd.crosstab(index=df[\"education\"], columns=df[\"income\"], normalize=\"index\")\n",
    "\n",
    "display(education_and_income)"
   ]
  },
  {
   "cell_type": "markdown",
   "metadata": {},
   "source": [
    "Führe eine Analyse durch, um festzustellen, ob bestimmte Bildungsabschlüsse bei Männern oder Frauen im Adult Income Dataset überdurchschnittlich häufig vorkommen. Erstelle dazu eine Kreuztabelle und ein passendes Diagramm. Leite aus den Ergebnissen Handlungsempfehlungen oder Hypothesen ab."
   ]
  },
  {
   "cell_type": "code",
   "execution_count": null,
   "metadata": {},
   "outputs": [],
   "source": [
    "education_by_sex = pd.crosstab(df[\"education\"], df[\"sex\"], normalize=\"index\")\n",
    "display(education_by_sex)\n",
    "\n",
    "mean_values = education_by_sex.mean()\n",
    "print(mean_values)\n",
    "\n",
    "male_dominated = education_by_sex[education_by_sex[\"Male\"] > mean_values[\"Male\"]]\n",
    "\n",
    "female_dominated = education_by_sex[education_by_sex[\"Female\"] > mean_values[\"Female\"]]\n",
    "\n",
    "print(\"Bildungsabschlüsse mit überdurchschnittlich hohem Männeranteil:\")\n",
    "print(male_dominated)\n",
    "\n",
    "print(\"\\nBildungsabschlüsse mit überdurchschnittlich hohem Frauenanteil:\")\n",
    "print(female_dominated)\n"
   ]
  },
  {
   "cell_type": "markdown",
   "metadata": {},
   "source": [
    "Untersuche, welche Berufsgruppen im Adult Income Dataset den höchsten bzw. geringsten Anteil an Personen mit einem Einkommen von über 50K haben. Erstelle dazu ein Diagramm und erläutere die wichtigsten Erkenntnisse. Gehe dabei auf mögliche Gründe für die Einkommensunterschiede ein."
   ]
  },
  {
   "cell_type": "code",
   "execution_count": null,
   "metadata": {},
   "outputs": [],
   "source": [
    "occupation_and_income = pd.crosstab(index=df[\"occupation\"], columns=df[\"income\"], normalize=\"index\")\n",
    "occupation_and_income_sorted = occupation_and_income.sort_values(by=\">50K\", ascending=False)\n",
    "display(occupation_and_income_sorted)"
   ]
  },
  {
   "cell_type": "markdown",
   "metadata": {},
   "source": [
    "Analysiere, wie sich die Wahrscheinlichkeit eines Einkommens von über 50K mit steigendem Alter verändert. Erstelle dazu eine lineare oder nicht-lineare Regressionsanalyse und eine passende Visualisierung. Erkläre, ob es signifikante Altersgruppen gibt, die besonders häufig ein hohes Einkommen erzielen."
   ]
  },
  {
   "cell_type": "code",
   "execution_count": null,
   "metadata": {},
   "outputs": [],
   "source": [
    "income_by_age = pd.crosstab(index=df[\"age\"], columns=df[\"income\"], normalize=\"index\")\n",
    "income_by_age = income_by_age.sort_values(by=\"age\", ascending=False)\n",
    "display(income_by_age)\n",
    "\n",
    "# Hier wäre spannend, einen Verlauf des Gehalts zu sehen - Ab welchem Zeitpunkt steigt die Wahrscheinlichkeit (Schwellenwertüberschreitung) das ein Einkommen > 50K liegt?\n",
    "# Altersgruppen bilden?"
   ]
  },
  {
   "cell_type": "markdown",
   "metadata": {},
   "source": [
    "Führe eine detaillierte Analyse durch, um herauszufinden, ob es signifikante Einkommensunterschiede zwischen Männern und Frauen im Adult Income Dataset gibt. Verwende dazu statistische Tests wie den T-Test oder den Chi-Quadrat-Test und erstelle ein geeignetes Diagramm zur Veranschaulichung."
   ]
  },
  {
   "cell_type": "code",
   "execution_count": null,
   "metadata": {},
   "outputs": [],
   "source": [
    "income_by_sex = pd.crosstab(index=df[\"sex\"], columns=df[\"income\"], normalize=\"index\")\n",
    "display(income_by_sex)\n",
    "\n",
    "# Darstellung als zwei Tortendiagramme oder Balkendiagramme nebeneinander = Männern verdienen mit 30 % in der Verteilung mehr als 50K, brauchen hingegen nur knapp 11 %. "
   ]
  },
  {
   "cell_type": "markdown",
   "metadata": {},
   "source": [
    "Untersuche die Korrelation zwischen der Anzahl der gearbeiteten Stunden pro Woche und dem Einkommen im Adult Income Dataset. Erstelle eine Scatterplot-Visualisierung und führe eine Regressionsanalyse durch, um die Stärke und Richtung des Zusammenhangs zu ermitteln."
   ]
  },
  {
   "cell_type": "code",
   "execution_count": null,
   "metadata": {},
   "outputs": [],
   "source": [
    "work_hours_by_income = pd.crosstab(index=df[\"hours_per_week\"], columns=df[\"income\"], normalize=\"index\")\n",
    "work_hours_by_income = work_hours_by_income.sort_values(by=\"hours_per_week\", ascending=True)\n",
    "display(work_hours_by_income)"
   ]
  },
  {
   "cell_type": "markdown",
   "metadata": {},
   "source": [
    "Analysiere, ob es signifikante Unterschiede in der durchschnittlichen Arbeitszeit pro Woche zwischen Männern und Frauen gibt. Führe dazu eine deskriptive Statistik durch, erstelle eine Visualisierung und interpretiere die Ergebnisse im Hinblick auf mögliche Gründe für die Unterschiede."
   ]
  },
  {
   "cell_type": "code",
   "execution_count": null,
   "metadata": {},
   "outputs": [],
   "source": [
    "work_hours_by_sex = pd.crosstab(df[\"hours_per_week\"], df[\"sex\"], normalize=\"index\")\n",
    "display(work_hours_by_sex)\n",
    "\n",
    "\n",
    "mean_hours_values = work_hours_by_sex.mean()\n",
    "print(mean_hours_values)\n",
    "\n",
    "male_hours_dominated = work_hours_by_sex[work_hours_by_sex[\"Male\"] > mean_hours_values[\"Male\"]]\n",
    "\n",
    "female_hours_dominated = work_hours_by_sex[work_hours_by_sex[\"Female\"] > mean_hours_values[\"Female\"]]\n",
    "\n",
    "print(\"Durchschnittliche Arbeitszeiten mit überdurchschnittlich hohem Männeranteil:\")\n",
    "print(male_hours_dominated)\n",
    "\n",
    "print(\"\\n Durchschnittliche Arbeitszeiten mit überdurchschnittlich hohem Frauenanteil:\")\n",
    "print(female_hours_dominated)"
   ]
  },
  {
   "cell_type": "markdown",
   "metadata": {},
   "source": [
    "Führe eine Analyse durch, um den Zusammenhang zwischen dem Herkunftsland und der Einkommensklasse (≤50K / >50K) im Adult Income Dataset zu untersuchen. Erstelle eine Heatmap oder ein Balkendiagramm und interpretiere, ob bestimmte Länder tendenziell häufiger in bestimmten Einkommensklassen vertreten sind."
   ]
  },
  {
   "cell_type": "code",
   "execution_count": null,
   "metadata": {},
   "outputs": [],
   "source": [
    "native_country_income = pd.crosstab(df[\"native_country\"], df[\"income\"], normalize=\"index\")\n",
    "native_country_income = native_country_income.sort_values(by=\">50K\", ascending=False)\n",
    "display(native_country_income)"
   ]
  },
  {
   "cell_type": "markdown",
   "metadata": {},
   "source": [
    "Untersuche, wie sich das Einkommen (≤50K / >50K) über verschiedene ethnische Gruppen hinweg im Adult Income Dataset verteilt. Verwende dazu eine Kreuztabelle und eine passende Visualisierung. Erkläre, ob es signifikante Unterschiede gibt, und spekuliere über mögliche Ursachen."
   ]
  },
  {
   "cell_type": "code",
   "execution_count": null,
   "metadata": {},
   "outputs": [],
   "source": [
    "race_and_income = pd.crosstab(df[\"race\"], df[\"income\"], normalize=\"index\")\n",
    "race_and_income = race_and_income.sort_values(by=\">50K\", ascending=False)\n",
    "display(race_and_income)"
   ]
  },
  {
   "cell_type": "markdown",
   "metadata": {},
   "source": [
    "Analysiere, wie der Familienstand (ledig, verheiratet, geschieden) das Einkommen im Adult Income Dataset beeinflusst. Führe dazu eine statistische Analyse und eine Visualisierung durch. Erläutere die möglichen Zusammenhänge und ziehe Rückschlüsse auf soziale oder wirtschaftliche Faktoren."
   ]
  },
  {
   "cell_type": "code",
   "execution_count": null,
   "metadata": {},
   "outputs": [],
   "source": [
    "martial_status_and_income = pd.crosstab(df[\"marital_status\"], df[\"income\"], normalize=\"index\")\n",
    "martial_status_and_income = martial_status_and_income.sort_values(by=\">50K\", ascending=False)\n",
    "display(martial_status_and_income)"
   ]
  },
  {
   "cell_type": "markdown",
   "metadata": {},
   "source": [
    "Identifiziere die demographischen Merkmale, die die stärksten Prädiktoren für ein hohes Einkommen (über 50K) im Adult Income Dataset sind. Verwende dazu ein Entscheidungsbaum-Modell oder eine logistische Regression und erläutere, welche Merkmale besonders relevant sind.\n",
    "\n",
    "Demografische Merkmale:\n",
    "- Alter\n",
    "- Geschlecht\n",
    "- Wohnort\n",
    "- Beruf\n",
    "- Familienstand"
   ]
  },
  {
   "cell_type": "code",
   "execution_count": null,
   "metadata": {},
   "outputs": [],
   "source": [
    "# Visualsierung die anzeigt, ob es einen Zusammenhang zwischen den o.g. demografischen Merkmalen und dem Einkommen gibt. "
   ]
  },
  {
   "cell_type": "markdown",
   "metadata": {},
   "source": [
    "Analysiere, ob es Berufe im Adult Income Dataset gibt, in denen der Einkommensunterschied zwischen Männern und Frauen besonders hoch ist. Führe dazu eine detaillierte statistische Analyse durch und erstelle eine Visualisierung, die die Unterschiede darstellt. Gib mögliche Gründe für die Unterschiede an."
   ]
  },
  {
   "cell_type": "code",
   "execution_count": null,
   "metadata": {},
   "outputs": [],
   "source": [
    "occupation_by_sex_and_income = pd.crosstab(df[\"occupation\"], df[\"sex\"], normalize=\"index\")\n",
    "display(occupation_by_sex_and_income)\n",
    "\n",
    "mean__occ_sex_values = occupation_by_sex_and_income.mean()\n",
    "print(mean__occ_sex_values)\n",
    "\n",
    "male_occ_sex_dominated = occupation_by_sex_and_income[occupation_by_sex_and_income[\"Male\"] > mean__occ_sex_values[\"Male\"]]\n",
    "\n",
    "female_occ_sex_dominated = occupation_by_sex_and_income[occupation_by_sex_and_income[\"Female\"] > mean__occ_sex_values[\"Female\"]]\n",
    "\n",
    "print(\"Berufe mit überdurchschnittlich hohem Gehaltsunterschied:\")\n",
    "print(male_occ_sex_dominated)\n",
    "\n",
    "print(\"\\nBerufe mit überdurchschnittlich hohem Gehaltsunterschied:\")\n",
    "print(female_occ_sex_dominated)"
   ]
  }
 ],
 "metadata": {
  "kernelspec": {
   "display_name": ".venv",
   "language": "python",
   "name": "python3"
  },
  "language_info": {
   "codemirror_mode": {
    "name": "ipython",
    "version": 3
   },
   "file_extension": ".py",
   "mimetype": "text/x-python",
   "name": "python",
   "nbconvert_exporter": "python",
   "pygments_lexer": "ipython3",
   "version": "3.12.3"
  }
 },
 "nbformat": 4,
 "nbformat_minor": 2
}
