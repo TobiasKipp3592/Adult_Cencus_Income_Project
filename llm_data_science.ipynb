{
 "cells": [
  {
   "cell_type": "markdown",
   "metadata": {},
   "source": [
    "# Implementierung von LangChain\n",
    "\n",
    "### Was ist das? \n",
    "\n",
    "LangChain ist ein Framework, das LLMs (Large Language Models) in Workflows integriert und so ermöglicht, Modelle wie GPT zur Beantwortung komplexer Fragen oder zur Verarbeitung strukturierter Daten zu nutzen.\n",
    "\n",
    "### Fragestellungen zum Projekt\n",
    "\n",
    "🔹 Kann ein LLM (über LangChain) eine faire Vorhersage treffen, ohne auf klassische ML-Methoden zurückzugreifen?\n",
    "🔹 Wie unterscheidet sich die Entscheidungslogik eines LLM von klassischen ML-Modellen?\n",
    "🔹 Sind LLMs möglicherweise selbst biased, wenn sie auf dem gleichen Datensatz arbeiten?\n",
    "🔹 Könnte LangChain genutzt werden, um faire Entscheidungen zu erklären oder Bias in ML-Modellen zu entdecken?\n",
    "\n",
    "### Probleme\n",
    "\n",
    "- GPTs werden auf Texten trainiert, die selbst Bias enthalten\n",
    "- GPT arbeitet mit Sprache und nicht mit harten Zahlen wie ML-Modelle\n",
    "\n",
    "### Vorgehen: \n",
    "\n",
    "- LLM als Vorhersage benutzen\n",
    "LLM als Fairness-Analyst für das ML-Modell"
   ]
  },
  {
   "cell_type": "code",
   "execution_count": null,
   "metadata": {},
   "outputs": [],
   "source": [
    "# Test, ob der API-Key funktioniert\n",
    "import os\n",
    "from dotenv import load_dotenv\n",
    "import openai\n",
    "\n",
    "load_dotenv()\n",
    "\n",
    "api_key = os.getenv(\"OPENAI_API_KEY\")\n",
    "\n",
    "if api_key:\n",
    "    print(\"Dein API-Schlüssel wurde erfolgreich geladen\")\n",
    "\n",
    "else: \n",
    "    print(\"Error: API-Schlüssel nicht gefunden\")"
   ]
  },
  {
   "cell_type": "code",
   "execution_count": null,
   "metadata": {},
   "outputs": [],
   "source": [
    "# Welche OpenAI-Modelle stehen mir zur Verfügung\n",
    "openai.api_key = os.getenv(\"OPENAI_API_KEY\")\n",
    "\n",
    "models = openai.models.list()\n",
    "\n",
    "for model in models.data:\n",
    "    print(model.id)"
   ]
  },
  {
   "cell_type": "markdown",
   "metadata": {},
   "source": [
    "### ML vs. GPT - Kann GPT Vorhersagen besser oder fairer machen?"
   ]
  },
  {
   "cell_type": "code",
   "execution_count": null,
   "metadata": {},
   "outputs": [],
   "source": [
    "from langchain_openai import ChatOpenAI\n",
    "from langchain.prompts import PromptTemplate\n",
    "\n",
    "# GPT-4-Modell initialisieren\n",
    "llm = ChatOpenAI(model_name=\"gpt-3.5-turbo\")\n",
    "\n",
    "# GPT-4 benötigt am besten konsistenten und strukturierten Text\n",
    "prompt = PromptTemplate(\n",
    "    input_variables=[\"age\", \"sex\", \"education\", \"occupation\"],\n",
    "    template=\"Eine Person ist {age} Jahre alt, {sex}, hat {education} abgeschlossen und arbeitet als {occupation}. \"\n",
    "             \"Wird diese Person mehr als 50.000€ im Jahr verdienen? Antworte mit Ja oder Nein.\"\n",
    ")\n",
    "\n",
    "# Definition einer Beispielperson\n",
    "example_data = {\n",
    "    \"age\": \"35\",\n",
    "    \"sex\": \"männlich\",\n",
    "    \"education\": \"Master-Abschluss\",\n",
    "    \"occupation\": \"Ingenieur\"\n",
    "}\n",
    "\n",
    "# Prediction \n",
    "llm_input = prompt.format(**example_data)\n",
    "prediction = llm.invoke(llm_input)\n",
    "\n",
    "# Response \n",
    "print(\"GPT-3.5 Vorhersage:\", prediction)"
   ]
  },
  {
   "cell_type": "code",
   "execution_count": null,
   "metadata": {},
   "outputs": [],
   "source": []
  }
 ],
 "metadata": {
  "kernelspec": {
   "display_name": ".venv",
   "language": "python",
   "name": "python3"
  },
  "language_info": {
   "codemirror_mode": {
    "name": "ipython",
    "version": 3
   },
   "file_extension": ".py",
   "mimetype": "text/x-python",
   "name": "python",
   "nbconvert_exporter": "python",
   "pygments_lexer": "ipython3",
   "version": "3.12.9"
  }
 },
 "nbformat": 4,
 "nbformat_minor": 2
}
